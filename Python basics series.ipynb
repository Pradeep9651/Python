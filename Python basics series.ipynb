{
 "cells": [
  {
   "cell_type": "code",
   "execution_count": 2,
   "id": "898d520a",
   "metadata": {},
   "outputs": [],
   "source": [
    "Student=\"sam\""
   ]
  },
  {
   "cell_type": "code",
   "execution_count": 3,
   "id": "74fd653f",
   "metadata": {},
   "outputs": [
    {
     "data": {
      "text/plain": [
       "'sam'"
      ]
     },
     "execution_count": 3,
     "metadata": {},
     "output_type": "execute_result"
    }
   ],
   "source": [
    "Student\n"
   ]
  },
  {
   "cell_type": "code",
   "execution_count": 4,
   "id": "ea37868a",
   "metadata": {},
   "outputs": [],
   "source": [
    "Student=\"matt\""
   ]
  },
  {
   "cell_type": "code",
   "execution_count": 5,
   "id": "321a0271",
   "metadata": {},
   "outputs": [
    {
     "data": {
      "text/plain": [
       "'matt'"
      ]
     },
     "execution_count": 5,
     "metadata": {},
     "output_type": "execute_result"
    }
   ],
   "source": [
    "Student"
   ]
  },
  {
   "cell_type": "code",
   "execution_count": 6,
   "id": "a2584cb8",
   "metadata": {},
   "outputs": [],
   "source": [
    "Student=\"bob\""
   ]
  },
  {
   "cell_type": "code",
   "execution_count": 7,
   "id": "ba4a0403",
   "metadata": {},
   "outputs": [
    {
     "data": {
      "text/plain": [
       "'bob'"
      ]
     },
     "execution_count": 7,
     "metadata": {},
     "output_type": "execute_result"
    }
   ],
   "source": [
    "Student"
   ]
  },
  {
   "cell_type": "code",
   "execution_count": 8,
   "id": "b9107de4",
   "metadata": {},
   "outputs": [],
   "source": [
    "a1=20"
   ]
  },
  {
   "cell_type": "code",
   "execution_count": 9,
   "id": "2ec5bb28",
   "metadata": {},
   "outputs": [
    {
     "data": {
      "text/plain": [
       "int"
      ]
     },
     "execution_count": 9,
     "metadata": {},
     "output_type": "execute_result"
    }
   ],
   "source": [
    "type(a1)"
   ]
  },
  {
   "cell_type": "code",
   "execution_count": 10,
   "id": "0605d2a3",
   "metadata": {},
   "outputs": [],
   "source": [
    "A1=20.3"
   ]
  },
  {
   "cell_type": "code",
   "execution_count": 11,
   "id": "a8ea2a19",
   "metadata": {},
   "outputs": [
    {
     "data": {
      "text/plain": [
       "20.3"
      ]
     },
     "execution_count": 11,
     "metadata": {},
     "output_type": "execute_result"
    }
   ],
   "source": [
    "A1\n"
   ]
  },
  {
   "cell_type": "code",
   "execution_count": 12,
   "id": "4b34c380",
   "metadata": {},
   "outputs": [
    {
     "data": {
      "text/plain": [
       "float"
      ]
     },
     "execution_count": 12,
     "metadata": {},
     "output_type": "execute_result"
    }
   ],
   "source": [
    "type(A1)"
   ]
  },
  {
   "cell_type": "code",
   "execution_count": 13,
   "id": "2b2b35d7",
   "metadata": {},
   "outputs": [],
   "source": [
    "a1='hello world'"
   ]
  },
  {
   "cell_type": "code",
   "execution_count": 14,
   "id": "dceda634",
   "metadata": {},
   "outputs": [
    {
     "data": {
      "text/plain": [
       "str"
      ]
     },
     "execution_count": 14,
     "metadata": {},
     "output_type": "execute_result"
    }
   ],
   "source": [
    "type(a1)"
   ]
  },
  {
   "cell_type": "markdown",
   "id": "bd81d22c",
   "metadata": {},
   "source": [
    "arithmatic operator"
   ]
  },
  {
   "cell_type": "code",
   "execution_count": 15,
   "id": "ac0f238d",
   "metadata": {},
   "outputs": [],
   "source": [
    "a=20"
   ]
  },
  {
   "cell_type": "code",
   "execution_count": 16,
   "id": "a64c93dc",
   "metadata": {},
   "outputs": [],
   "source": [
    "b=30"
   ]
  },
  {
   "cell_type": "code",
   "execution_count": 17,
   "id": "8f0b6384",
   "metadata": {},
   "outputs": [
    {
     "data": {
      "text/plain": [
       "50"
      ]
     },
     "execution_count": 17,
     "metadata": {},
     "output_type": "execute_result"
    }
   ],
   "source": [
    "a+b"
   ]
  },
  {
   "cell_type": "code",
   "execution_count": 18,
   "id": "4af54ec7",
   "metadata": {},
   "outputs": [
    {
     "data": {
      "text/plain": [
       "-10"
      ]
     },
     "execution_count": 18,
     "metadata": {},
     "output_type": "execute_result"
    }
   ],
   "source": [
    "a-b"
   ]
  },
  {
   "cell_type": "code",
   "execution_count": 19,
   "id": "0ba4f149",
   "metadata": {},
   "outputs": [
    {
     "data": {
      "text/plain": [
       "0.6666666666666666"
      ]
     },
     "execution_count": 19,
     "metadata": {},
     "output_type": "execute_result"
    }
   ],
   "source": [
    "a/b"
   ]
  },
  {
   "cell_type": "code",
   "execution_count": 20,
   "id": "5d9e168c",
   "metadata": {},
   "outputs": [
    {
     "data": {
      "text/plain": [
       "float"
      ]
     },
     "execution_count": 20,
     "metadata": {},
     "output_type": "execute_result"
    }
   ],
   "source": [
    "type(a/b)"
   ]
  },
  {
   "cell_type": "code",
   "execution_count": 22,
   "id": "897e4433",
   "metadata": {},
   "outputs": [
    {
     "data": {
      "text/plain": [
       "600"
      ]
     },
     "execution_count": 22,
     "metadata": {},
     "output_type": "execute_result"
    }
   ],
   "source": [
    "a*b"
   ]
  },
  {
   "cell_type": "markdown",
   "id": "a0c97887",
   "metadata": {},
   "source": [
    "Relational operator"
   ]
  },
  {
   "cell_type": "code",
   "execution_count": 23,
   "id": "6f87133c",
   "metadata": {},
   "outputs": [],
   "source": [
    "a=50"
   ]
  },
  {
   "cell_type": "code",
   "execution_count": 24,
   "id": "abb717c4",
   "metadata": {},
   "outputs": [],
   "source": [
    "b=100"
   ]
  },
  {
   "cell_type": "code",
   "execution_count": 25,
   "id": "ca5559d7",
   "metadata": {},
   "outputs": [
    {
     "data": {
      "text/plain": [
       "False"
      ]
     },
     "execution_count": 25,
     "metadata": {},
     "output_type": "execute_result"
    }
   ],
   "source": [
    "a>b"
   ]
  },
  {
   "cell_type": "code",
   "execution_count": 26,
   "id": "146584ae",
   "metadata": {},
   "outputs": [
    {
     "data": {
      "text/plain": [
       "True"
      ]
     },
     "execution_count": 26,
     "metadata": {},
     "output_type": "execute_result"
    }
   ],
   "source": [
    "a<b"
   ]
  },
  {
   "cell_type": "code",
   "execution_count": 27,
   "id": "58ecbcb3",
   "metadata": {},
   "outputs": [
    {
     "data": {
      "text/plain": [
       "False"
      ]
     },
     "execution_count": 27,
     "metadata": {},
     "output_type": "execute_result"
    }
   ],
   "source": [
    "a==b"
   ]
  },
  {
   "cell_type": "code",
   "execution_count": 28,
   "id": "24ccdd04",
   "metadata": {},
   "outputs": [
    {
     "data": {
      "text/plain": [
       "True"
      ]
     },
     "execution_count": 28,
     "metadata": {},
     "output_type": "execute_result"
    }
   ],
   "source": [
    "a!=b"
   ]
  },
  {
   "cell_type": "markdown",
   "id": "fcfc220f",
   "metadata": {},
   "source": [
    "logical operator"
   ]
  },
  {
   "cell_type": "raw",
   "id": "ead8aabb",
   "metadata": {},
   "source": [
    "# & |"
   ]
  },
  {
   "cell_type": "code",
   "execution_count": 31,
   "id": "92f3413e",
   "metadata": {},
   "outputs": [],
   "source": [
    "a=True"
   ]
  },
  {
   "cell_type": "code",
   "execution_count": 32,
   "id": "acc503cf",
   "metadata": {},
   "outputs": [],
   "source": [
    "b=False"
   ]
  },
  {
   "cell_type": "code",
   "execution_count": 33,
   "id": "952aa5b4",
   "metadata": {},
   "outputs": [
    {
     "data": {
      "text/plain": [
       "True"
      ]
     },
     "execution_count": 33,
     "metadata": {},
     "output_type": "execute_result"
    }
   ],
   "source": [
    "a&a"
   ]
  },
  {
   "cell_type": "code",
   "execution_count": 34,
   "id": "907a3898",
   "metadata": {},
   "outputs": [
    {
     "data": {
      "text/plain": [
       "False"
      ]
     },
     "execution_count": 34,
     "metadata": {},
     "output_type": "execute_result"
    }
   ],
   "source": [
    "a&b"
   ]
  },
  {
   "cell_type": "code",
   "execution_count": 35,
   "id": "87ddbb18",
   "metadata": {},
   "outputs": [
    {
     "data": {
      "text/plain": [
       "False"
      ]
     },
     "execution_count": 35,
     "metadata": {},
     "output_type": "execute_result"
    }
   ],
   "source": [
    "b&a"
   ]
  },
  {
   "cell_type": "code",
   "execution_count": 36,
   "id": "b589be1c",
   "metadata": {},
   "outputs": [
    {
     "data": {
      "text/plain": [
       "True"
      ]
     },
     "execution_count": 36,
     "metadata": {},
     "output_type": "execute_result"
    }
   ],
   "source": [
    "a|b"
   ]
  },
  {
   "cell_type": "code",
   "execution_count": 37,
   "id": "51e3c585",
   "metadata": {},
   "outputs": [
    {
     "data": {
      "text/plain": [
       "True"
      ]
     },
     "execution_count": 37,
     "metadata": {},
     "output_type": "execute_result"
    }
   ],
   "source": [
    "a|a"
   ]
  },
  {
   "cell_type": "code",
   "execution_count": 38,
   "id": "878f97ef",
   "metadata": {},
   "outputs": [
    {
     "data": {
      "text/plain": [
       "False"
      ]
     },
     "execution_count": 38,
     "metadata": {},
     "output_type": "execute_result"
    }
   ],
   "source": [
    "b|b"
   ]
  },
  {
   "cell_type": "code",
   "execution_count": 39,
   "id": "f7e510c2",
   "metadata": {},
   "outputs": [
    {
     "data": {
      "text/plain": [
       "True"
      ]
     },
     "execution_count": 39,
     "metadata": {},
     "output_type": "execute_result"
    }
   ],
   "source": [
    "a|b"
   ]
  },
  {
   "cell_type": "code",
   "execution_count": 40,
   "id": "89f3cd6c",
   "metadata": {},
   "outputs": [
    {
     "data": {
      "text/plain": [
       "True"
      ]
     },
     "execution_count": 40,
     "metadata": {},
     "output_type": "execute_result"
    }
   ],
   "source": [
    "b|a"
   ]
  },
  {
   "cell_type": "code",
   "execution_count": 41,
   "id": "a5037056",
   "metadata": {},
   "outputs": [],
   "source": [
    "str='hello duniya'"
   ]
  },
  {
   "cell_type": "code",
   "execution_count": 42,
   "id": "9214e1ea",
   "metadata": {},
   "outputs": [
    {
     "data": {
      "text/plain": [
       "'hello duniya'"
      ]
     },
     "execution_count": 42,
     "metadata": {},
     "output_type": "execute_result"
    }
   ],
   "source": [
    "str"
   ]
  },
  {
   "cell_type": "code",
   "execution_count": 43,
   "id": "2c21aa2a",
   "metadata": {},
   "outputs": [],
   "source": [
    "str1=\"This is duniya\""
   ]
  },
  {
   "cell_type": "code",
   "execution_count": 44,
   "id": "f7602336",
   "metadata": {},
   "outputs": [
    {
     "data": {
      "text/plain": [
       "'This is duniya'"
      ]
     },
     "execution_count": 44,
     "metadata": {},
     "output_type": "execute_result"
    }
   ],
   "source": [
    "str1"
   ]
  },
  {
   "cell_type": "code",
   "execution_count": 45,
   "id": "deb31cd8",
   "metadata": {},
   "outputs": [],
   "source": [
    "str2='''\n",
    "this is \n",
    "nayi duniya\n",
    "multiple lines\n",
    "'''\n",
    "\n"
   ]
  },
  {
   "cell_type": "code",
   "execution_count": 46,
   "id": "7cdb7d12",
   "metadata": {},
   "outputs": [
    {
     "data": {
      "text/plain": [
       "'\\nthis is \\nnayi duniya\\nmultiple lines\\n'"
      ]
     },
     "execution_count": 46,
     "metadata": {},
     "output_type": "execute_result"
    }
   ],
   "source": [
    "str2"
   ]
  },
  {
   "cell_type": "code",
   "execution_count": 47,
   "id": "9a874ba4",
   "metadata": {},
   "outputs": [],
   "source": [
    "my_string=\"this is jarvis\""
   ]
  },
  {
   "cell_type": "code",
   "execution_count": 48,
   "id": "51e0a1ed",
   "metadata": {},
   "outputs": [
    {
     "data": {
      "text/plain": [
       "'this is jarvis'"
      ]
     },
     "execution_count": 48,
     "metadata": {},
     "output_type": "execute_result"
    }
   ],
   "source": [
    "my_string"
   ]
  },
  {
   "cell_type": "code",
   "execution_count": 49,
   "id": "f9cf3602",
   "metadata": {},
   "outputs": [
    {
     "data": {
      "text/plain": [
       "'t'"
      ]
     },
     "execution_count": 49,
     "metadata": {},
     "output_type": "execute_result"
    }
   ],
   "source": [
    "my_string[0]"
   ]
  },
  {
   "cell_type": "code",
   "execution_count": 50,
   "id": "a0ebf617",
   "metadata": {},
   "outputs": [
    {
     "data": {
      "text/plain": [
       "'h'"
      ]
     },
     "execution_count": 50,
     "metadata": {},
     "output_type": "execute_result"
    }
   ],
   "source": [
    "my_string[1]"
   ]
  },
  {
   "cell_type": "code",
   "execution_count": 51,
   "id": "d0bf7417",
   "metadata": {},
   "outputs": [
    {
     "data": {
      "text/plain": [
       "'is jar'"
      ]
     },
     "execution_count": 51,
     "metadata": {},
     "output_type": "execute_result"
    }
   ],
   "source": [
    "my_string[5:11]"
   ]
  },
  {
   "cell_type": "code",
   "execution_count": 52,
   "id": "23ecf366",
   "metadata": {},
   "outputs": [
    {
     "data": {
      "text/plain": [
       "14"
      ]
     },
     "execution_count": 52,
     "metadata": {},
     "output_type": "execute_result"
    }
   ],
   "source": [
    "len(my_string)"
   ]
  },
  {
   "cell_type": "code",
   "execution_count": 54,
   "id": "a2e0bc7c",
   "metadata": {},
   "outputs": [
    {
     "data": {
      "text/plain": [
       "'this is jarvis'"
      ]
     },
     "execution_count": 54,
     "metadata": {},
     "output_type": "execute_result"
    }
   ],
   "source": [
    "my_string.lower()"
   ]
  },
  {
   "cell_type": "code",
   "execution_count": 55,
   "id": "b0002626",
   "metadata": {},
   "outputs": [
    {
     "data": {
      "text/plain": [
       "'THIS IS JARVIS'"
      ]
     },
     "execution_count": 55,
     "metadata": {},
     "output_type": "execute_result"
    }
   ],
   "source": [
    "my_string.upper()"
   ]
  },
  {
   "cell_type": "code",
   "execution_count": 60,
   "id": "4986e02e",
   "metadata": {},
   "outputs": [
    {
     "data": {
      "text/plain": [
       "'this is tarvis'"
      ]
     },
     "execution_count": 60,
     "metadata": {},
     "output_type": "execute_result"
    }
   ],
   "source": [
    "my_string.replace('j','t')"
   ]
  },
  {
   "cell_type": "code",
   "execution_count": 61,
   "id": "2a9d2ee8",
   "metadata": {},
   "outputs": [],
   "source": [
    "str_new='jarvis jarvis 100 200 300'"
   ]
  },
  {
   "cell_type": "code",
   "execution_count": 62,
   "id": "a06cbd3a",
   "metadata": {},
   "outputs": [
    {
     "data": {
      "text/plain": [
       "'jarvis jarvis 100 200 300'"
      ]
     },
     "execution_count": 62,
     "metadata": {},
     "output_type": "execute_result"
    }
   ],
   "source": [
    "str_new"
   ]
  },
  {
   "cell_type": "code",
   "execution_count": 63,
   "id": "fd5f8449",
   "metadata": {},
   "outputs": [
    {
     "data": {
      "text/plain": [
       "2"
      ]
     },
     "execution_count": 63,
     "metadata": {},
     "output_type": "execute_result"
    }
   ],
   "source": [
    "str_new.count('jarvis')"
   ]
  },
  {
   "cell_type": "code",
   "execution_count": 65,
   "id": "c995ee10",
   "metadata": {},
   "outputs": [
    {
     "data": {
      "text/plain": [
       "1"
      ]
     },
     "execution_count": 65,
     "metadata": {},
     "output_type": "execute_result"
    }
   ],
   "source": [
    "str_new.count('100')"
   ]
  },
  {
   "cell_type": "code",
   "execution_count": 66,
   "id": "6eb7f556",
   "metadata": {},
   "outputs": [
    {
     "data": {
      "text/plain": [
       "2"
      ]
     },
     "execution_count": 66,
     "metadata": {},
     "output_type": "execute_result"
    }
   ],
   "source": [
    "str_new.count('s')"
   ]
  },
  {
   "cell_type": "code",
   "execution_count": 67,
   "id": "de8743c9",
   "metadata": {},
   "outputs": [
    {
     "data": {
      "text/plain": [
       "0"
      ]
     },
     "execution_count": 67,
     "metadata": {},
     "output_type": "execute_result"
    }
   ],
   "source": [
    "str_new.find('jarvis')"
   ]
  },
  {
   "cell_type": "code",
   "execution_count": 68,
   "id": "4ea970a1",
   "metadata": {},
   "outputs": [],
   "source": [
    "s1='this is sparta'"
   ]
  },
  {
   "cell_type": "code",
   "execution_count": 69,
   "id": "e9ba5021",
   "metadata": {},
   "outputs": [
    {
     "data": {
      "text/plain": [
       "8"
      ]
     },
     "execution_count": 69,
     "metadata": {},
     "output_type": "execute_result"
    }
   ],
   "source": [
    "s1.find('sparta')"
   ]
  },
  {
   "cell_type": "code",
   "execution_count": 70,
   "id": "3667b8ca",
   "metadata": {},
   "outputs": [],
   "source": [
    "my_string='hello world'"
   ]
  },
  {
   "cell_type": "code",
   "execution_count": 72,
   "id": "ae115b88",
   "metadata": {},
   "outputs": [
    {
     "data": {
      "text/plain": [
       "4"
      ]
     },
     "execution_count": 72,
     "metadata": {},
     "output_type": "execute_result"
    }
   ],
   "source": [
    "my_string.find('o')"
   ]
  },
  {
   "cell_type": "markdown",
   "id": "9269e29b",
   "metadata": {},
   "source": [
    "Tupple  tupple are immutable"
   ]
  },
  {
   "cell_type": "code",
   "execution_count": 2,
   "id": "d308c87f",
   "metadata": {},
   "outputs": [],
   "source": [
    "tup1=(1,True,3.14,5-7j)"
   ]
  },
  {
   "cell_type": "code",
   "execution_count": 3,
   "id": "d3daa8d1",
   "metadata": {},
   "outputs": [
    {
     "data": {
      "text/plain": [
       "(1, True, 3.14, (5-7j))"
      ]
     },
     "execution_count": 3,
     "metadata": {},
     "output_type": "execute_result"
    }
   ],
   "source": [
    "tup1"
   ]
  },
  {
   "cell_type": "code",
   "execution_count": 5,
   "id": "fd0f1fb1",
   "metadata": {},
   "outputs": [
    {
     "data": {
      "text/plain": [
       "tuple"
      ]
     },
     "execution_count": 5,
     "metadata": {},
     "output_type": "execute_result"
    }
   ],
   "source": [
    "type(tup1)"
   ]
  },
  {
   "cell_type": "code",
   "execution_count": 6,
   "id": "10218bfb",
   "metadata": {},
   "outputs": [
    {
     "data": {
      "text/plain": [
       "1"
      ]
     },
     "execution_count": 6,
     "metadata": {},
     "output_type": "execute_result"
    }
   ],
   "source": [
    "tup1[0]"
   ]
  },
  {
   "cell_type": "code",
   "execution_count": 8,
   "id": "9ee2f4a8",
   "metadata": {},
   "outputs": [
    {
     "data": {
      "text/plain": [
       "(5-7j)"
      ]
     },
     "execution_count": 8,
     "metadata": {},
     "output_type": "execute_result"
    }
   ],
   "source": [
    "tup1[-1]"
   ]
  },
  {
   "cell_type": "code",
   "execution_count": 9,
   "id": "a213c542",
   "metadata": {},
   "outputs": [
    {
     "data": {
      "text/plain": [
       "(5-7j)"
      ]
     },
     "execution_count": 9,
     "metadata": {},
     "output_type": "execute_result"
    }
   ],
   "source": [
    "tup1[3]"
   ]
  },
  {
   "cell_type": "code",
   "execution_count": 10,
   "id": "8b578a18",
   "metadata": {},
   "outputs": [
    {
     "data": {
      "text/plain": [
       "(True, 3.14)"
      ]
     },
     "execution_count": 10,
     "metadata": {},
     "output_type": "execute_result"
    }
   ],
   "source": [
    "tup1[1:3]"
   ]
  },
  {
   "cell_type": "code",
   "execution_count": 11,
   "id": "00128807",
   "metadata": {},
   "outputs": [
    {
     "data": {
      "text/plain": [
       "(1, True, 3.14)"
      ]
     },
     "execution_count": 11,
     "metadata": {},
     "output_type": "execute_result"
    }
   ],
   "source": [
    "tup1[0:3]"
   ]
  },
  {
   "cell_type": "code",
   "execution_count": 12,
   "id": "f5910cb6",
   "metadata": {},
   "outputs": [
    {
     "ename": "TypeError",
     "evalue": "'tuple' object does not support item assignment",
     "output_type": "error",
     "traceback": [
      "\u001b[1;31m---------------------------------------------------------------------------\u001b[0m",
      "\u001b[1;31mTypeError\u001b[0m                                 Traceback (most recent call last)",
      "\u001b[1;32m~\\AppData\\Local\\Temp\\ipykernel_11148\\226975624.py\u001b[0m in \u001b[0;36m<module>\u001b[1;34m\u001b[0m\n\u001b[1;32m----> 1\u001b[1;33m \u001b[0mtup1\u001b[0m\u001b[1;33m[\u001b[0m\u001b[1;36m3\u001b[0m\u001b[1;33m]\u001b[0m\u001b[1;33m=\u001b[0m\u001b[1;34m\"this is jarvis\"\u001b[0m\u001b[1;33m\u001b[0m\u001b[1;33m\u001b[0m\u001b[0m\n\u001b[0m",
      "\u001b[1;31mTypeError\u001b[0m: 'tuple' object does not support item assignment"
     ]
    }
   ],
   "source": [
    "tup1[3]=\"this is jarvis\""
   ]
  },
  {
   "cell_type": "code",
   "execution_count": 13,
   "id": "53a0a124",
   "metadata": {},
   "outputs": [
    {
     "data": {
      "text/plain": [
       "4"
      ]
     },
     "execution_count": 13,
     "metadata": {},
     "output_type": "execute_result"
    }
   ],
   "source": [
    "len(tup1)"
   ]
  },
  {
   "cell_type": "code",
   "execution_count": 18,
   "id": "97a0b318",
   "metadata": {},
   "outputs": [],
   "source": [
    "tup1=(1,2,3,4)"
   ]
  },
  {
   "cell_type": "code",
   "execution_count": 22,
   "id": "ca74b8dd",
   "metadata": {},
   "outputs": [],
   "source": [
    "tup2=(5,6,7)"
   ]
  },
  {
   "cell_type": "code",
   "execution_count": 23,
   "id": "cd1d4d7f",
   "metadata": {},
   "outputs": [
    {
     "data": {
      "text/plain": [
       "(1, 2, 3, 4, 5, 6, 7)"
      ]
     },
     "execution_count": 23,
     "metadata": {},
     "output_type": "execute_result"
    }
   ],
   "source": [
    "tup1+tup2"
   ]
  },
  {
   "cell_type": "code",
   "execution_count": 24,
   "id": "685dae7b",
   "metadata": {},
   "outputs": [
    {
     "data": {
      "text/plain": [
       "(5, 6, 7, 1, 2, 3, 4)"
      ]
     },
     "execution_count": 24,
     "metadata": {},
     "output_type": "execute_result"
    }
   ],
   "source": [
    "tup2+tup1"
   ]
  },
  {
   "cell_type": "code",
   "execution_count": 25,
   "id": "d2a81f79",
   "metadata": {},
   "outputs": [],
   "source": [
    "tup1=('jarvis',300)"
   ]
  },
  {
   "cell_type": "code",
   "execution_count": 26,
   "id": "f2d3966e",
   "metadata": {},
   "outputs": [
    {
     "data": {
      "text/plain": [
       "('jarvis', 300, 'jarvis', 300, 'jarvis', 300, 'jarvis', 300)"
      ]
     },
     "execution_count": 26,
     "metadata": {},
     "output_type": "execute_result"
    }
   ],
   "source": [
    "tup1*4"
   ]
  },
  {
   "cell_type": "code",
   "execution_count": 27,
   "id": "3756d3cd",
   "metadata": {},
   "outputs": [],
   "source": [
    "tup1=('jarvis',300)"
   ]
  },
  {
   "cell_type": "code",
   "execution_count": 28,
   "id": "6127c475",
   "metadata": {},
   "outputs": [],
   "source": [
    "tup2=(4,5,6)"
   ]
  },
  {
   "cell_type": "code",
   "execution_count": 29,
   "id": "eafc1223",
   "metadata": {},
   "outputs": [
    {
     "data": {
      "text/plain": [
       "('jarvis', 300, 'jarvis', 300, 'jarvis', 300, 4, 5, 6)"
      ]
     },
     "execution_count": 29,
     "metadata": {},
     "output_type": "execute_result"
    }
   ],
   "source": [
    "tup1*3 + tup2"
   ]
  },
  {
   "cell_type": "code",
   "execution_count": 30,
   "id": "5bd7ec24",
   "metadata": {},
   "outputs": [],
   "source": [
    "tup1=(10,20,30,40,50,60)"
   ]
  },
  {
   "cell_type": "code",
   "execution_count": 31,
   "id": "94b3b7d3",
   "metadata": {},
   "outputs": [
    {
     "data": {
      "text/plain": [
       "10"
      ]
     },
     "execution_count": 31,
     "metadata": {},
     "output_type": "execute_result"
    }
   ],
   "source": [
    "min(tup1)"
   ]
  },
  {
   "cell_type": "code",
   "execution_count": 32,
   "id": "5680e3b1",
   "metadata": {},
   "outputs": [
    {
     "data": {
      "text/plain": [
       "60"
      ]
     },
     "execution_count": 32,
     "metadata": {},
     "output_type": "execute_result"
    }
   ],
   "source": [
    "max(tup1)"
   ]
  },
  {
   "cell_type": "markdown",
   "id": "f3fa6bc2",
   "metadata": {},
   "source": [
    "List  lists are mutable "
   ]
  },
  {
   "cell_type": "code",
   "execution_count": 33,
   "id": "753b0698",
   "metadata": {},
   "outputs": [],
   "source": [
    "l1=[1,'jarvis',4.14,True]"
   ]
  },
  {
   "cell_type": "code",
   "execution_count": 34,
   "id": "ba246418",
   "metadata": {},
   "outputs": [
    {
     "data": {
      "text/plain": [
       "[1, 'jarvis', 4.14, True]"
      ]
     },
     "execution_count": 34,
     "metadata": {},
     "output_type": "execute_result"
    }
   ],
   "source": [
    "l1"
   ]
  },
  {
   "cell_type": "code",
   "execution_count": 35,
   "id": "08365166",
   "metadata": {},
   "outputs": [
    {
     "data": {
      "text/plain": [
       "list"
      ]
     },
     "execution_count": 35,
     "metadata": {},
     "output_type": "execute_result"
    }
   ],
   "source": [
    "type(l1)"
   ]
  },
  {
   "cell_type": "code",
   "execution_count": 37,
   "id": "eaf51195",
   "metadata": {},
   "outputs": [
    {
     "data": {
      "text/plain": [
       "'jarvis'"
      ]
     },
     "execution_count": 37,
     "metadata": {},
     "output_type": "execute_result"
    }
   ],
   "source": [
    "l1[1]"
   ]
  },
  {
   "cell_type": "code",
   "execution_count": 38,
   "id": "4e5e54a3",
   "metadata": {},
   "outputs": [
    {
     "data": {
      "text/plain": [
       "True"
      ]
     },
     "execution_count": 38,
     "metadata": {},
     "output_type": "execute_result"
    }
   ],
   "source": [
    "l1[-1]"
   ]
  },
  {
   "cell_type": "code",
   "execution_count": 39,
   "id": "8249eb08",
   "metadata": {},
   "outputs": [
    {
     "data": {
      "text/plain": [
       "['jarvis', 4.14]"
      ]
     },
     "execution_count": 39,
     "metadata": {},
     "output_type": "execute_result"
    }
   ],
   "source": [
    "l1[1:3]"
   ]
  },
  {
   "cell_type": "code",
   "execution_count": 40,
   "id": "ee6317b6",
   "metadata": {},
   "outputs": [],
   "source": [
    "l1[0]=100"
   ]
  },
  {
   "cell_type": "code",
   "execution_count": 41,
   "id": "cca87c19",
   "metadata": {},
   "outputs": [
    {
     "data": {
      "text/plain": [
       "[100, 'jarvis', 4.14, True]"
      ]
     },
     "execution_count": 41,
     "metadata": {},
     "output_type": "execute_result"
    }
   ],
   "source": [
    "l1"
   ]
  },
  {
   "cell_type": "code",
   "execution_count": 43,
   "id": "0919afd7",
   "metadata": {},
   "outputs": [
    {
     "data": {
      "text/plain": [
       "True"
      ]
     },
     "execution_count": 43,
     "metadata": {},
     "output_type": "execute_result"
    }
   ],
   "source": [
    "l1.pop()"
   ]
  },
  {
   "cell_type": "code",
   "execution_count": 49,
   "id": "c03dfe09",
   "metadata": {},
   "outputs": [],
   "source": [
    "l1[-1]=True"
   ]
  },
  {
   "cell_type": "code",
   "execution_count": 50,
   "id": "7e077350",
   "metadata": {},
   "outputs": [
    {
     "data": {
      "text/plain": [
       "[100, 'jarvis', 4.14, True]"
      ]
     },
     "execution_count": 50,
     "metadata": {},
     "output_type": "execute_result"
    }
   ],
   "source": [
    "l1"
   ]
  },
  {
   "cell_type": "code",
   "execution_count": 51,
   "id": "bd9cc617",
   "metadata": {},
   "outputs": [],
   "source": [
    "l1.append(97.34)"
   ]
  },
  {
   "cell_type": "code",
   "execution_count": 52,
   "id": "40f3c9b5",
   "metadata": {},
   "outputs": [
    {
     "data": {
      "text/plain": [
       "[100, 'jarvis', 4.14, True, 97.34]"
      ]
     },
     "execution_count": 52,
     "metadata": {},
     "output_type": "execute_result"
    }
   ],
   "source": [
    "l1"
   ]
  },
  {
   "cell_type": "code",
   "execution_count": 55,
   "id": "6946305c",
   "metadata": {},
   "outputs": [],
   "source": [
    "l1=['500',666,13,16,True,False]"
   ]
  },
  {
   "cell_type": "code",
   "execution_count": 56,
   "id": "eda3301d",
   "metadata": {},
   "outputs": [
    {
     "data": {
      "text/plain": [
       "['500', 666, 13, 16, True, False]"
      ]
     },
     "execution_count": 56,
     "metadata": {},
     "output_type": "execute_result"
    }
   ],
   "source": [
    "l1"
   ]
  },
  {
   "cell_type": "code",
   "execution_count": 57,
   "id": "a6cba1f6",
   "metadata": {},
   "outputs": [],
   "source": [
    "l1.reverse()"
   ]
  },
  {
   "cell_type": "code",
   "execution_count": 58,
   "id": "40f976b6",
   "metadata": {},
   "outputs": [
    {
     "data": {
      "text/plain": [
       "[False, True, 16, 13, 666, '500']"
      ]
     },
     "execution_count": 58,
     "metadata": {},
     "output_type": "execute_result"
    }
   ],
   "source": [
    "l1"
   ]
  },
  {
   "cell_type": "code",
   "execution_count": 59,
   "id": "f692c2f4",
   "metadata": {},
   "outputs": [],
   "source": [
    "l1.insert(3,'jarvis')"
   ]
  },
  {
   "cell_type": "code",
   "execution_count": 60,
   "id": "ad29d929",
   "metadata": {},
   "outputs": [
    {
     "data": {
      "text/plain": [
       "[False, True, 16, 'jarvis', 13, 666, '500']"
      ]
     },
     "execution_count": 60,
     "metadata": {},
     "output_type": "execute_result"
    }
   ],
   "source": [
    "l1"
   ]
  },
  {
   "cell_type": "code",
   "execution_count": 65,
   "id": "c6999994",
   "metadata": {},
   "outputs": [],
   "source": [
    "l1=['b','d','h','a','b','k']"
   ]
  },
  {
   "cell_type": "code",
   "execution_count": 66,
   "id": "dd4378ee",
   "metadata": {},
   "outputs": [
    {
     "data": {
      "text/plain": [
       "['b', 'd', 'h', 'a', 'b', 'k']"
      ]
     },
     "execution_count": 66,
     "metadata": {},
     "output_type": "execute_result"
    }
   ],
   "source": [
    "l1"
   ]
  },
  {
   "cell_type": "code",
   "execution_count": 67,
   "id": "1c2dd7e7",
   "metadata": {},
   "outputs": [],
   "source": [
    "l1.sort()"
   ]
  },
  {
   "cell_type": "code",
   "execution_count": 68,
   "id": "67e784e2",
   "metadata": {},
   "outputs": [
    {
     "data": {
      "text/plain": [
       "['a', 'b', 'b', 'd', 'h', 'k']"
      ]
     },
     "execution_count": 68,
     "metadata": {},
     "output_type": "execute_result"
    }
   ],
   "source": [
    "l1"
   ]
  },
  {
   "cell_type": "code",
   "execution_count": 69,
   "id": "3dffbbbf",
   "metadata": {},
   "outputs": [],
   "source": [
    "l1=[1,2,3,4]"
   ]
  },
  {
   "cell_type": "code",
   "execution_count": 70,
   "id": "ff970c03",
   "metadata": {},
   "outputs": [],
   "source": [
    "l2=[5,6,7,]"
   ]
  },
  {
   "cell_type": "code",
   "execution_count": 71,
   "id": "ab75ad7f",
   "metadata": {},
   "outputs": [
    {
     "data": {
      "text/plain": [
       "[1, 2, 3, 4, 5, 6, 7]"
      ]
     },
     "execution_count": 71,
     "metadata": {},
     "output_type": "execute_result"
    }
   ],
   "source": [
    "l1+l2"
   ]
  },
  {
   "cell_type": "code",
   "execution_count": 72,
   "id": "b8336d6b",
   "metadata": {},
   "outputs": [
    {
     "data": {
      "text/plain": [
       "[5, 6, 7, 5, 6, 7, 5, 6, 7, 5, 6, 7, 5, 6, 7]"
      ]
     },
     "execution_count": 72,
     "metadata": {},
     "output_type": "execute_result"
    }
   ],
   "source": [
    "l2*5"
   ]
  },
  {
   "cell_type": "code",
   "execution_count": 74,
   "id": "893d0d98",
   "metadata": {},
   "outputs": [
    {
     "data": {
      "text/plain": [
       "[5, 6, 7, 5, 6, 7, 5, 6, 7, 5, 6, 7, 5, 6, 7, 1, 2, 3, 4]"
      ]
     },
     "execution_count": 74,
     "metadata": {},
     "output_type": "execute_result"
    }
   ],
   "source": [
    "l2*5+l1"
   ]
  },
  {
   "cell_type": "markdown",
   "id": "007a8485",
   "metadata": {},
   "source": [
    "dictionary -> Dictionary is mutable"
   ]
  },
  {
   "cell_type": "code",
   "execution_count": 1,
   "id": "1f7aba5d",
   "metadata": {},
   "outputs": [],
   "source": [
    "d1={'apple':100,'guava':200,'banana':300}"
   ]
  },
  {
   "cell_type": "code",
   "execution_count": 2,
   "id": "9ebd567e",
   "metadata": {},
   "outputs": [
    {
     "data": {
      "text/plain": [
       "dict"
      ]
     },
     "execution_count": 2,
     "metadata": {},
     "output_type": "execute_result"
    }
   ],
   "source": [
    "type(d1)"
   ]
  },
  {
   "cell_type": "code",
   "execution_count": 3,
   "id": "5d747ef5",
   "metadata": {},
   "outputs": [
    {
     "data": {
      "text/plain": [
       "dict_keys(['apple', 'guava', 'banana'])"
      ]
     },
     "execution_count": 3,
     "metadata": {},
     "output_type": "execute_result"
    }
   ],
   "source": [
    "d1.keys()"
   ]
  },
  {
   "cell_type": "code",
   "execution_count": 4,
   "id": "ad5ea92f",
   "metadata": {},
   "outputs": [
    {
     "data": {
      "text/plain": [
       "dict_values([100, 200, 300])"
      ]
     },
     "execution_count": 4,
     "metadata": {},
     "output_type": "execute_result"
    }
   ],
   "source": [
    "d1.values()"
   ]
  },
  {
   "cell_type": "code",
   "execution_count": 5,
   "id": "7fd00aef",
   "metadata": {},
   "outputs": [],
   "source": [
    "d1['mango']=400"
   ]
  },
  {
   "cell_type": "code",
   "execution_count": 6,
   "id": "db57b4fc",
   "metadata": {},
   "outputs": [
    {
     "data": {
      "text/plain": [
       "{'apple': 100, 'guava': 200, 'banana': 300, 'mango': 400}"
      ]
     },
     "execution_count": 6,
     "metadata": {},
     "output_type": "execute_result"
    }
   ],
   "source": [
    "d1"
   ]
  },
  {
   "cell_type": "code",
   "execution_count": 7,
   "id": "27c11498",
   "metadata": {},
   "outputs": [],
   "source": [
    "d1['banana']=40"
   ]
  },
  {
   "cell_type": "code",
   "execution_count": 8,
   "id": "33cbfdc9",
   "metadata": {},
   "outputs": [
    {
     "data": {
      "text/plain": [
       "{'apple': 100, 'guava': 200, 'banana': 40, 'mango': 400}"
      ]
     },
     "execution_count": 8,
     "metadata": {},
     "output_type": "execute_result"
    }
   ],
   "source": [
    "d1"
   ]
  },
  {
   "cell_type": "code",
   "execution_count": 9,
   "id": "5864473b",
   "metadata": {},
   "outputs": [],
   "source": [
    "d2={'watermelon':50,'muskmelon':60,'grapes':80}"
   ]
  },
  {
   "cell_type": "code",
   "execution_count": 10,
   "id": "4ecd9d85",
   "metadata": {},
   "outputs": [
    {
     "data": {
      "text/plain": [
       "{'watermelon': 50, 'muskmelon': 60, 'grapes': 80}"
      ]
     },
     "execution_count": 10,
     "metadata": {},
     "output_type": "execute_result"
    }
   ],
   "source": [
    "d2"
   ]
  },
  {
   "cell_type": "code",
   "execution_count": 16,
   "id": "cc6f3f30",
   "metadata": {},
   "outputs": [],
   "source": [
    "d1.update(d2)"
   ]
  },
  {
   "cell_type": "code",
   "execution_count": 17,
   "id": "0d50f6f1",
   "metadata": {},
   "outputs": [
    {
     "data": {
      "text/plain": [
       "{'apple': 100,\n",
       " 'guava': 200,\n",
       " 'banana': 40,\n",
       " 'mango': 400,\n",
       " 'watermelon': 50,\n",
       " 'muskmelon': 60,\n",
       " 'grapes': 80}"
      ]
     },
     "execution_count": 17,
     "metadata": {},
     "output_type": "execute_result"
    }
   ],
   "source": [
    "d1"
   ]
  },
  {
   "cell_type": "code",
   "execution_count": 19,
   "id": "8feb74cb",
   "metadata": {},
   "outputs": [
    {
     "data": {
      "text/plain": [
       "400"
      ]
     },
     "execution_count": 19,
     "metadata": {},
     "output_type": "execute_result"
    }
   ],
   "source": [
    "d1.pop('mango')"
   ]
  },
  {
   "cell_type": "code",
   "execution_count": 20,
   "id": "820c6089",
   "metadata": {},
   "outputs": [
    {
     "data": {
      "text/plain": [
       "{'apple': 100,\n",
       " 'guava': 200,\n",
       " 'banana': 40,\n",
       " 'watermelon': 50,\n",
       " 'muskmelon': 60,\n",
       " 'grapes': 80}"
      ]
     },
     "execution_count": 20,
     "metadata": {},
     "output_type": "execute_result"
    }
   ],
   "source": [
    "d1"
   ]
  },
  {
   "cell_type": "code",
   "execution_count": 21,
   "id": "c17c3d3a",
   "metadata": {},
   "outputs": [],
   "source": [
    "a=10"
   ]
  },
  {
   "cell_type": "code",
   "execution_count": 22,
   "id": "9d15f9fb",
   "metadata": {},
   "outputs": [],
   "source": [
    "b=20"
   ]
  },
  {
   "cell_type": "code",
   "execution_count": 25,
   "id": "5cb42081",
   "metadata": {},
   "outputs": [
    {
     "name": "stdout",
     "output_type": "stream",
     "text": [
      "b is greater\n"
     ]
    }
   ],
   "source": [
    "if(b>a):\n",
    "    print(\"b is greater\")\n"
   ]
  },
  {
   "cell_type": "code",
   "execution_count": 26,
   "id": "c7ac6ead",
   "metadata": {},
   "outputs": [],
   "source": [
    "if(a>b):\n",
    "    print(\"b is greater\")"
   ]
  },
  {
   "cell_type": "code",
   "execution_count": 28,
   "id": "2661e77b",
   "metadata": {},
   "outputs": [
    {
     "name": "stdout",
     "output_type": "stream",
     "text": [
      "b is greater\n"
     ]
    }
   ],
   "source": [
    "if(a>b):\n",
    "    print(\"a is greater\")\n",
    "else:\n",
    "    print(\"b is greater\")"
   ]
  },
  {
   "cell_type": "code",
   "execution_count": 29,
   "id": "c6e18a55",
   "metadata": {},
   "outputs": [],
   "source": [
    "a=20"
   ]
  },
  {
   "cell_type": "code",
   "execution_count": 30,
   "id": "488dc5b0",
   "metadata": {},
   "outputs": [],
   "source": [
    "b=30"
   ]
  },
  {
   "cell_type": "code",
   "execution_count": 31,
   "id": "d6955208",
   "metadata": {},
   "outputs": [],
   "source": [
    "c=40"
   ]
  },
  {
   "cell_type": "code",
   "execution_count": 35,
   "id": "3e9daada",
   "metadata": {},
   "outputs": [
    {
     "name": "stdout",
     "output_type": "stream",
     "text": [
      "c is greater\n"
     ]
    }
   ],
   "source": [
    "if (a>b) & (a>c):\n",
    "    print(\"a is greater\")\n",
    "elif(b>a)&(b>c):\n",
    "    print(\"b is greater\")\n",
    "else:\n",
    "    print(\"c is greater\")\n"
   ]
  },
  {
   "cell_type": "markdown",
   "id": "14ab894c",
   "metadata": {},
   "source": [
    "if statement with tupple"
   ]
  },
  {
   "cell_type": "code",
   "execution_count": 36,
   "id": "600bb16b",
   "metadata": {},
   "outputs": [],
   "source": [
    "tup1=('a','b','c','d')\n"
   ]
  },
  {
   "cell_type": "code",
   "execution_count": 37,
   "id": "ec926f4d",
   "metadata": {},
   "outputs": [
    {
     "name": "stdout",
     "output_type": "stream",
     "text": [
      "value a is present in tup1\n"
     ]
    }
   ],
   "source": [
    "if 'a' in tup1:\n",
    "    print(\"value a is present in tup1\")"
   ]
  },
  {
   "cell_type": "code",
   "execution_count": 38,
   "id": "40f6c67b",
   "metadata": {},
   "outputs": [
    {
     "name": "stdout",
     "output_type": "stream",
     "text": [
      "value z is not present in tup1\n"
     ]
    }
   ],
   "source": [
    "if 'z' in tup1:\n",
    "    print(\"value a is present in tup1\")\n",
    "else:\n",
    "    print(\"value z is not present in tup1\")"
   ]
  },
  {
   "cell_type": "markdown",
   "id": "ee804aa0",
   "metadata": {},
   "source": [
    "if with list"
   ]
  },
  {
   "cell_type": "code",
   "execution_count": 39,
   "id": "2db9fd74",
   "metadata": {},
   "outputs": [],
   "source": [
    "l1=['a','b','c']"
   ]
  },
  {
   "cell_type": "code",
   "execution_count": 41,
   "id": "47bad73c",
   "metadata": {},
   "outputs": [
    {
     "name": "stdout",
     "output_type": "stream",
     "text": [
      "value a is present\n"
     ]
    }
   ],
   "source": [
    "if 'a' in l1:\n",
    "    print(\"value a is present\")"
   ]
  },
  {
   "cell_type": "code",
   "execution_count": 42,
   "id": "2a19dab6",
   "metadata": {},
   "outputs": [
    {
     "name": "stdout",
     "output_type": "stream",
     "text": [
      "value y is not present\n"
     ]
    }
   ],
   "source": [
    "if 'y' in l1:\n",
    "    print(\"value a is present\")\n",
    "else:\n",
    "    print(\"value y is not present\")"
   ]
  },
  {
   "cell_type": "code",
   "execution_count": 45,
   "id": "753a3638",
   "metadata": {},
   "outputs": [],
   "source": [
    "if l1[1]=='b':\n",
    "    l1[1]='z'"
   ]
  },
  {
   "cell_type": "code",
   "execution_count": 46,
   "id": "017ca3e6",
   "metadata": {},
   "outputs": [
    {
     "data": {
      "text/plain": [
       "['a', 'z', 'c']"
      ]
     },
     "execution_count": 46,
     "metadata": {},
     "output_type": "execute_result"
    }
   ],
   "source": [
    " l1"
   ]
  },
  {
   "cell_type": "markdown",
   "id": "497f0830",
   "metadata": {},
   "source": [
    "if with dictionary"
   ]
  },
  {
   "cell_type": "code",
   "execution_count": 54,
   "id": "0686f2fa",
   "metadata": {},
   "outputs": [],
   "source": [
    "d1={'d':20,'g':30,'k':40}"
   ]
  },
  {
   "cell_type": "code",
   "execution_count": 55,
   "id": "77647391",
   "metadata": {},
   "outputs": [],
   "source": [
    "if d1['d']==20:\n",
    "    d1['d']=d1['d']+70"
   ]
  },
  {
   "cell_type": "code",
   "execution_count": 56,
   "id": "6377c2c5",
   "metadata": {},
   "outputs": [
    {
     "data": {
      "text/plain": [
       "{'d': 90, 'g': 30, 'k': 40}"
      ]
     },
     "execution_count": 56,
     "metadata": {},
     "output_type": "execute_result"
    }
   ],
   "source": [
    "d1"
   ]
  },
  {
   "cell_type": "code",
   "execution_count": 1,
   "id": "a44991e5",
   "metadata": {},
   "outputs": [
    {
     "name": "stdout",
     "output_type": "stream",
     "text": [
      "1\n",
      "2\n",
      "3\n",
      "4\n",
      "5\n",
      "6\n",
      "7\n",
      "8\n",
      "9\n",
      "10\n"
     ]
    }
   ],
   "source": [
    "i=1\n",
    "while i<=10:\n",
    "    print(i)\n",
    "    i=i+1"
   ]
  },
  {
   "cell_type": "code",
   "execution_count": 2,
   "id": "4f06dde7",
   "metadata": {},
   "outputs": [
    {
     "name": "stdout",
     "output_type": "stream",
     "text": [
      "2  *  1  =  2\n",
      "2  *  2  =  4\n",
      "2  *  3  =  6\n",
      "2  *  4  =  8\n",
      "2  *  5  =  10\n",
      "2  *  6  =  12\n",
      "2  *  7  =  14\n",
      "2  *  8  =  16\n",
      "2  *  9  =  18\n",
      "2  *  10  =  20\n"
     ]
    }
   ],
   "source": [
    "i=1\n",
    "n=2\n",
    "while i<=10:\n",
    "    print(n,\" * \",i,\" = \" ,n*i)\n",
    "    i=i+1"
   ]
  },
  {
   "cell_type": "markdown",
   "id": "98d29c8a",
   "metadata": {},
   "source": [
    "while with list"
   ]
  },
  {
   "cell_type": "code",
   "execution_count": 11,
   "id": "fa96f707",
   "metadata": {},
   "outputs": [],
   "source": [
    "l1=[1,2,3,4,5]"
   ]
  },
  {
   "cell_type": "code",
   "execution_count": 12,
   "id": "9a5e6122",
   "metadata": {},
   "outputs": [],
   "source": [
    "i=0"
   ]
  },
  {
   "cell_type": "code",
   "execution_count": 13,
   "id": "ade18512",
   "metadata": {},
   "outputs": [
    {
     "name": "stdout",
     "output_type": "stream",
     "text": [
      "[101, 2, 3, 4, 5]\n",
      "[101, 102, 3, 4, 5]\n",
      "[101, 102, 103, 4, 5]\n",
      "[101, 102, 103, 104, 5]\n",
      "[101, 102, 103, 104, 105]\n"
     ]
    }
   ],
   "source": [
    "while i<len(l1):\n",
    "    l1[i]=l1[i]+100\n",
    "    i=i+1\n",
    "    print(l1)"
   ]
  },
  {
   "cell_type": "code",
   "execution_count": 4,
   "id": "d34e3ac9",
   "metadata": {},
   "outputs": [
    {
     "data": {
      "text/plain": [
       "[101, 102, 103, 104, 105]"
      ]
     },
     "execution_count": 4,
     "metadata": {},
     "output_type": "execute_result"
    }
   ],
   "source": [
    "l1"
   ]
  },
  {
   "cell_type": "code",
   "execution_count": 9,
   "id": "77fcc52c",
   "metadata": {},
   "outputs": [
    {
     "data": {
      "text/plain": [
       "[101, 102, 103, 104, 105]"
      ]
     },
     "execution_count": 9,
     "metadata": {},
     "output_type": "execute_result"
    }
   ],
   "source": [
    "l1"
   ]
  },
  {
   "cell_type": "code",
   "execution_count": 14,
   "id": "d605ec00",
   "metadata": {},
   "outputs": [],
   "source": [
    "l1=['apple','mango','lichi','grapes']"
   ]
  },
  {
   "cell_type": "code",
   "execution_count": 16,
   "id": "89d732ba",
   "metadata": {},
   "outputs": [
    {
     "name": "stdout",
     "output_type": "stream",
     "text": [
      "apple\n",
      "mango\n",
      "lichi\n",
      "grapes\n"
     ]
    }
   ],
   "source": [
    "for i in l1:\n",
    "    print(i)"
   ]
  },
  {
   "cell_type": "code",
   "execution_count": 21,
   "id": "3fe69ae5",
   "metadata": {},
   "outputs": [],
   "source": [
    "l1=['apple','mango','lichi']\n",
    "l2=['red','yellow','white']\n",
    "    "
   ]
  },
  {
   "cell_type": "code",
   "execution_count": 22,
   "id": "78608a84",
   "metadata": {},
   "outputs": [
    {
     "name": "stdout",
     "output_type": "stream",
     "text": [
      "apple red\n",
      "apple yellow\n",
      "apple white\n",
      "mango red\n",
      "mango yellow\n",
      "mango white\n",
      "lichi red\n",
      "lichi yellow\n",
      "lichi white\n"
     ]
    }
   ],
   "source": [
    "for i in l1:\n",
    "    for j in l2:\n",
    "        print(i,j)"
   ]
  },
  {
   "cell_type": "code",
   "execution_count": 1,
   "id": "e2228fda",
   "metadata": {},
   "outputs": [],
   "source": [
    "def jarvis():\n",
    "    print(\"hello jarvis\")"
   ]
  },
  {
   "cell_type": "code",
   "execution_count": 2,
   "id": "66e77b08",
   "metadata": {},
   "outputs": [
    {
     "name": "stdout",
     "output_type": "stream",
     "text": [
      "hello jarvis\n"
     ]
    }
   ],
   "source": [
    "jarvis()"
   ]
  },
  {
   "cell_type": "code",
   "execution_count": 9,
   "id": "0378cef3",
   "metadata": {},
   "outputs": [],
   "source": [
    "def add_10(x):\n",
    "    return x+10\n",
    "    "
   ]
  },
  {
   "cell_type": "code",
   "execution_count": 10,
   "id": "6c640120",
   "metadata": {},
   "outputs": [
    {
     "data": {
      "text/plain": [
       "19"
      ]
     },
     "execution_count": 10,
     "metadata": {},
     "output_type": "execute_result"
    }
   ],
   "source": [
    "add_10(9)"
   ]
  },
  {
   "cell_type": "code",
   "execution_count": 11,
   "id": "c2e97e92",
   "metadata": {},
   "outputs": [
    {
     "data": {
      "text/plain": [
       "15"
      ]
     },
     "execution_count": 11,
     "metadata": {},
     "output_type": "execute_result"
    }
   ],
   "source": [
    "add_10(5)"
   ]
  },
  {
   "cell_type": "code",
   "execution_count": 12,
   "id": "0ec536ed",
   "metadata": {},
   "outputs": [],
   "source": [
    "def odd_even(x):\n",
    "    if x%2==0:\n",
    "        print(x,\" is even\")\n",
    "    else:\n",
    "        print(x,\" is odd\")"
   ]
  },
  {
   "cell_type": "code",
   "execution_count": 15,
   "id": "a4fdefd1",
   "metadata": {},
   "outputs": [
    {
     "name": "stdout",
     "output_type": "stream",
     "text": [
      "3  is odd\n"
     ]
    }
   ],
   "source": [
    "odd_even(3)"
   ]
  },
  {
   "cell_type": "code",
   "execution_count": 16,
   "id": "e7abc26b",
   "metadata": {},
   "outputs": [
    {
     "name": "stdout",
     "output_type": "stream",
     "text": [
      "2  is even\n"
     ]
    }
   ],
   "source": [
    "odd_even(2)"
   ]
  },
  {
   "cell_type": "code",
   "execution_count": 17,
   "id": "fd29c593",
   "metadata": {},
   "outputs": [],
   "source": [
    "g=lambda x: x*x*x"
   ]
  },
  {
   "cell_type": "code",
   "execution_count": 18,
   "id": "279dc4cd",
   "metadata": {},
   "outputs": [
    {
     "data": {
      "text/plain": [
       "125"
      ]
     },
     "execution_count": 18,
     "metadata": {},
     "output_type": "execute_result"
    }
   ],
   "source": [
    "g(5)"
   ]
  },
  {
   "cell_type": "code",
   "execution_count": 19,
   "id": "7080885f",
   "metadata": {},
   "outputs": [
    {
     "data": {
      "text/plain": [
       "1000"
      ]
     },
     "execution_count": 19,
     "metadata": {},
     "output_type": "execute_result"
    }
   ],
   "source": [
    "g(10)"
   ]
  },
  {
   "cell_type": "code",
   "execution_count": 26,
   "id": "fa698e49",
   "metadata": {},
   "outputs": [],
   "source": [
    "l1=[55,67,87,98,23,43,76,89]                     #lambda with filter\n",
    "final_list=list(filter(lambda x: (x%2!=0),l1))"
   ]
  },
  {
   "cell_type": "code",
   "execution_count": 27,
   "id": "64786874",
   "metadata": {},
   "outputs": [
    {
     "data": {
      "text/plain": [
       "[55, 67, 87, 23, 43, 89]"
      ]
     },
     "execution_count": 27,
     "metadata": {},
     "output_type": "execute_result"
    }
   ],
   "source": [
    "final_list"
   ]
  },
  {
   "cell_type": "code",
   "execution_count": 28,
   "id": "1f1fbd73",
   "metadata": {},
   "outputs": [],
   "source": [
    "l1=[1,2,3,4,5,6,7,8]"
   ]
  },
  {
   "cell_type": "code",
   "execution_count": 34,
   "id": "b8530fbc",
   "metadata": {},
   "outputs": [],
   "source": [
    "l1_new=list(map(lambda x: x*2,l1))               #lambda with map"
   ]
  },
  {
   "cell_type": "code",
   "execution_count": 35,
   "id": "d371686a",
   "metadata": {},
   "outputs": [
    {
     "data": {
      "text/plain": [
       "[2, 4, 6, 8, 10, 12, 14, 16]"
      ]
     },
     "execution_count": 35,
     "metadata": {},
     "output_type": "execute_result"
    }
   ],
   "source": [
    "l1_new"
   ]
  },
  {
   "cell_type": "code",
   "execution_count": 36,
   "id": "2a071817",
   "metadata": {},
   "outputs": [],
   "source": [
    "from functools import reduce"
   ]
  },
  {
   "cell_type": "code",
   "execution_count": 37,
   "id": "53e9a787",
   "metadata": {},
   "outputs": [],
   "source": [
    "sum=reduce(lambda x,y: x+y,l1)"
   ]
  },
  {
   "cell_type": "code",
   "execution_count": 38,
   "id": "00679566",
   "metadata": {},
   "outputs": [
    {
     "data": {
      "text/plain": [
       "36"
      ]
     },
     "execution_count": 38,
     "metadata": {},
     "output_type": "execute_result"
    }
   ],
   "source": [
    "sum"
   ]
  },
  {
   "cell_type": "markdown",
   "id": "9e8cfdd5",
   "metadata": {},
   "source": [
    "creating first class"
   ]
  },
  {
   "cell_type": "code",
   "execution_count": 1,
   "id": "cd030ef8",
   "metadata": {},
   "outputs": [],
   "source": [
    "class Phone:\n",
    "    def make_call(self):\n",
    "        print(\"I am making call\")\n",
    "    def play_game(self):\n",
    "        print(\"I am playing game\")\n",
    "        "
   ]
  },
  {
   "cell_type": "code",
   "execution_count": 2,
   "id": "2155b8f2",
   "metadata": {},
   "outputs": [],
   "source": [
    "p1 = Phone()"
   ]
  },
  {
   "cell_type": "code",
   "execution_count": 3,
   "id": "ac6aed2b",
   "metadata": {},
   "outputs": [
    {
     "name": "stdout",
     "output_type": "stream",
     "text": [
      "I am making call\n"
     ]
    }
   ],
   "source": [
    "p1.make_call()"
   ]
  },
  {
   "cell_type": "code",
   "execution_count": 4,
   "id": "7143ce51",
   "metadata": {},
   "outputs": [
    {
     "name": "stdout",
     "output_type": "stream",
     "text": [
      "I am playing game\n"
     ]
    }
   ],
   "source": [
    "p1.play_game()"
   ]
  },
  {
   "cell_type": "code",
   "execution_count": 1,
   "id": "ff446c0d",
   "metadata": {},
   "outputs": [],
   "source": [
    "class Phone:\n",
    "    def set_color(self,color):\n",
    "        self.color=color\n",
    "    def set_cost(self,cost):\n",
    "        self.cost=cost\n",
    "    def show_color(self):\n",
    "        return self.color\n",
    "    def show_cost(self):\n",
    "        return self.cost\n",
    "    def make_call(self):\n",
    "        print(\"make a call\")\n",
    "    def play_game(self):\n",
    "        print(\"play a game\")"
   ]
  },
  {
   "cell_type": "code",
   "execution_count": 2,
   "id": "8acff565",
   "metadata": {},
   "outputs": [],
   "source": [
    "p2=Phone()"
   ]
  },
  {
   "cell_type": "code",
   "execution_count": 3,
   "id": "2289c6c6",
   "metadata": {},
   "outputs": [],
   "source": [
    "p2.set_color(\"blue\")"
   ]
  },
  {
   "cell_type": "code",
   "execution_count": 4,
   "id": "03a6ab4a",
   "metadata": {},
   "outputs": [],
   "source": [
    "p2.set_cost(5000)"
   ]
  },
  {
   "cell_type": "code",
   "execution_count": 5,
   "id": "8d509f95",
   "metadata": {},
   "outputs": [
    {
     "data": {
      "text/plain": [
       "'blue'"
      ]
     },
     "execution_count": 5,
     "metadata": {},
     "output_type": "execute_result"
    }
   ],
   "source": [
    "p2.show_color()"
   ]
  },
  {
   "cell_type": "code",
   "execution_count": 6,
   "id": "d083a414",
   "metadata": {},
   "outputs": [
    {
     "data": {
      "text/plain": [
       "5000"
      ]
     },
     "execution_count": 6,
     "metadata": {},
     "output_type": "execute_result"
    }
   ],
   "source": [
    "p2.show_cost()"
   ]
  },
  {
   "cell_type": "code",
   "execution_count": 7,
   "id": "9b0a0a6e",
   "metadata": {},
   "outputs": [
    {
     "name": "stdout",
     "output_type": "stream",
     "text": [
      "make a call\n"
     ]
    }
   ],
   "source": [
    "p2.make_call()"
   ]
  },
  {
   "cell_type": "code",
   "execution_count": 8,
   "id": "c248ed2f",
   "metadata": {},
   "outputs": [
    {
     "name": "stdout",
     "output_type": "stream",
     "text": [
      "play a game\n"
     ]
    }
   ],
   "source": [
    "p2.play_game()"
   ]
  },
  {
   "cell_type": "code",
   "execution_count": 5,
   "id": "d4bcf482",
   "metadata": {},
   "outputs": [],
   "source": [
    "class Employee:\n",
    "    def __init__(self,name,age,salary,gender):\n",
    "        self.name = name\n",
    "        self.age = age\n",
    "        self.salary = salary\n",
    "        self.gender = gender\n",
    "    def show_employee_details(self):\n",
    "        print(\"name of employee is\",self.name)\n",
    "        print(\"age of employee is\",self.age)\n",
    "        print(\"salary of employee is\",self.salary)\n",
    "        print(\"gender of employee is\",self.gender)"
   ]
  },
  {
   "cell_type": "code",
   "execution_count": 6,
   "id": "76a900b9",
   "metadata": {},
   "outputs": [],
   "source": [
    "e1 = Employee('Ram',32,50000,'Male')"
   ]
  },
  {
   "cell_type": "code",
   "execution_count": 7,
   "id": "1cfbe7e0",
   "metadata": {},
   "outputs": [
    {
     "name": "stdout",
     "output_type": "stream",
     "text": [
      "name of employee is Ram\n",
      "age of employee is 32\n",
      "salary of employee is 50000\n",
      "gender of employee is Male\n"
     ]
    }
   ],
   "source": [
    "e1.show_employee_details()"
   ]
  },
  {
   "cell_type": "markdown",
   "id": "666c3b17",
   "metadata": {},
   "source": [
    "Inheritance : With inheritance ane class can derive the properties of another class"
   ]
  },
  {
   "cell_type": "code",
   "execution_count": 20,
   "id": "1feb2796",
   "metadata": {},
   "outputs": [],
   "source": [
    "class Vehicle:\n",
    "    def __init__(self,mileage,cost):\n",
    "        self.mileage = mileage\n",
    "        self.cost = cost\n",
    "        \n",
    "    def show_vehicle_details(self):\n",
    "        print(\"mileage of vehicle is\",self.mileage)\n",
    "        print(\"Cost of vehicle is\",self.cost)\n",
    "        print(\"I am vehicle\")"
   ]
  },
  {
   "cell_type": "code",
   "execution_count": 30,
   "id": "d1437c31",
   "metadata": {},
   "outputs": [],
   "source": [
    "v1 = Vehicle(300,500)"
   ]
  },
  {
   "cell_type": "code",
   "execution_count": 41,
   "id": "74f57b5e",
   "metadata": {},
   "outputs": [],
   "source": [
    "class Car(Vehicle):                                        #over-riding in init method\n",
    "    def __init__(self,mileage,cost,tyres,hp):\n",
    "        super().__init__(mileage,cost)\n",
    "        self.tyres = tyres\n",
    "        self.hp = hp\n",
    "    def show_car_details(self):\n",
    "        print(\"number of tyres in car\",self.tyres)\n",
    "        print(\"Horse power of car is\",self.hp)\n",
    "        print(\"I am car\")"
   ]
  },
  {
   "cell_type": "code",
   "execution_count": 42,
   "id": "0396d3ea",
   "metadata": {},
   "outputs": [],
   "source": [
    "c1 = Car(600,10000000,4,999)"
   ]
  },
  {
   "cell_type": "code",
   "execution_count": 43,
   "id": "50064017",
   "metadata": {},
   "outputs": [
    {
     "name": "stdout",
     "output_type": "stream",
     "text": [
      "number of tyres in car 4\n",
      "Horse power of car is 999\n",
      "I am car\n"
     ]
    }
   ],
   "source": [
    "c1.show_car_details()"
   ]
  },
  {
   "cell_type": "code",
   "execution_count": 44,
   "id": "e2e77b98",
   "metadata": {},
   "outputs": [
    {
     "name": "stdout",
     "output_type": "stream",
     "text": [
      "mileage of vehicle is 600\n",
      "Cost of vehicle is 10000000\n",
      "I am vehicle\n"
     ]
    }
   ],
   "source": [
    "c1.show_vehicle_details()"
   ]
  },
  {
   "cell_type": "markdown",
   "id": "f08dd1b9",
   "metadata": {},
   "source": [
    "Types of inheritance\n",
    ">single inheritance\n",
    ">multiple inheritance\n",
    ">muti-level  inheritance\n",
    ">Hybrid  inheritance"
   ]
  },
  {
   "cell_type": "code",
   "execution_count": 45,
   "id": "ab05c725",
   "metadata": {},
   "outputs": [],
   "source": [
    "class Parent1:\n",
    "    def assign_string_one(self,str1):\n",
    "        self.str1 = str1\n",
    "    def show_string_one(self):\n",
    "        return self.str1"
   ]
  },
  {
   "cell_type": "code",
   "execution_count": 46,
   "id": "248601ce",
   "metadata": {},
   "outputs": [],
   "source": [
    "class Parent2:\n",
    "    def assign_string_two(self,str2):\n",
    "        self.str2 = str2\n",
    "    def show_string_two(self):\n",
    "        return self.str2"
   ]
  },
  {
   "cell_type": "code",
   "execution_count": 52,
   "id": "38a2474b",
   "metadata": {},
   "outputs": [],
   "source": [
    "class Child(Parent1,Parent2):\n",
    "    def assign_string_three(self,str3):\n",
    "        self.str3 = str3\n",
    "    def show_string_three(self):\n",
    "        return self.str3"
   ]
  },
  {
   "cell_type": "code",
   "execution_count": 53,
   "id": "352b3097",
   "metadata": {},
   "outputs": [],
   "source": [
    "my_child = Child()"
   ]
  },
  {
   "cell_type": "code",
   "execution_count": 54,
   "id": "b135824c",
   "metadata": {},
   "outputs": [],
   "source": [
    "my_child.assign_string_one(\"I am string of parent1\")"
   ]
  },
  {
   "cell_type": "code",
   "execution_count": 55,
   "id": "08a08b48",
   "metadata": {},
   "outputs": [],
   "source": [
    "my_child.assign_string_two(\"I am string of parent2\")"
   ]
  },
  {
   "cell_type": "code",
   "execution_count": 56,
   "id": "d7331397",
   "metadata": {},
   "outputs": [],
   "source": [
    "my_child.assign_string_three(\"I am string of child\")"
   ]
  },
  {
   "cell_type": "code",
   "execution_count": 57,
   "id": "22da27f5",
   "metadata": {},
   "outputs": [
    {
     "data": {
      "text/plain": [
       "'I am string of parent2'"
      ]
     },
     "execution_count": 57,
     "metadata": {},
     "output_type": "execute_result"
    }
   ],
   "source": [
    "my_child.show_string_two()"
   ]
  },
  {
   "cell_type": "code",
   "execution_count": 58,
   "id": "a75c6bf2",
   "metadata": {},
   "outputs": [
    {
     "data": {
      "text/plain": [
       "'I am string of child'"
      ]
     },
     "execution_count": 58,
     "metadata": {},
     "output_type": "execute_result"
    }
   ],
   "source": [
    "my_child.show_string_three()"
   ]
  },
  {
   "cell_type": "code",
   "execution_count": 59,
   "id": "837ef64e",
   "metadata": {},
   "outputs": [
    {
     "data": {
      "text/plain": [
       "'I am string of parent1'"
      ]
     },
     "execution_count": 59,
     "metadata": {},
     "output_type": "execute_result"
    }
   ],
   "source": [
    "my_child.show_string_one()"
   ]
  },
  {
   "cell_type": "code",
   "execution_count": 60,
   "id": "1c53f0fa",
   "metadata": {},
   "outputs": [],
   "source": [
    "class Parent:\n",
    "    def get_name(self,name):\n",
    "        self.name = name\n",
    "    def show_name(self):\n",
    "        return self.name"
   ]
  },
  {
   "cell_type": "code",
   "execution_count": 62,
   "id": "0eb1a157",
   "metadata": {},
   "outputs": [],
   "source": [
    "class Child(Parent):\n",
    "    def get_age(self,age):\n",
    "        self.age = age\n",
    "    def show_age(self):\n",
    "        return self.age\n",
    "    "
   ]
  },
  {
   "cell_type": "code",
   "execution_count": 63,
   "id": "fc8e08c3",
   "metadata": {},
   "outputs": [],
   "source": [
    "class GrandChild(Child):\n",
    "    def get_gender(self,gender):\n",
    "        self.gender = gender\n",
    "    def show_gender(self):\n",
    "        return self.gender"
   ]
  },
  {
   "cell_type": "code",
   "execution_count": 65,
   "id": "2c18d07b",
   "metadata": {},
   "outputs": [],
   "source": [
    "gc = GrandChild()"
   ]
  },
  {
   "cell_type": "code",
   "execution_count": 66,
   "id": "3f9514ae",
   "metadata": {},
   "outputs": [],
   "source": [
    "gc.get_name(\"Avinash\")"
   ]
  },
  {
   "cell_type": "code",
   "execution_count": 67,
   "id": "269ae121",
   "metadata": {},
   "outputs": [],
   "source": [
    "gc.get_age(22)"
   ]
  },
  {
   "cell_type": "code",
   "execution_count": 68,
   "id": "8174f467",
   "metadata": {},
   "outputs": [],
   "source": [
    "gc.get_gender('male')"
   ]
  },
  {
   "cell_type": "code",
   "execution_count": 69,
   "id": "938b3cab",
   "metadata": {},
   "outputs": [
    {
     "data": {
      "text/plain": [
       "'Avinash'"
      ]
     },
     "execution_count": 69,
     "metadata": {},
     "output_type": "execute_result"
    }
   ],
   "source": [
    "gc.show_name()"
   ]
  },
  {
   "cell_type": "code",
   "execution_count": 71,
   "id": "f5dba27a",
   "metadata": {},
   "outputs": [
    {
     "data": {
      "text/plain": [
       "22"
      ]
     },
     "execution_count": 71,
     "metadata": {},
     "output_type": "execute_result"
    }
   ],
   "source": [
    "gc.show_age()"
   ]
  },
  {
   "cell_type": "code",
   "execution_count": 73,
   "id": "a9632ac9",
   "metadata": {},
   "outputs": [
    {
     "data": {
      "text/plain": [
       "'male'"
      ]
     },
     "execution_count": 73,
     "metadata": {},
     "output_type": "execute_result"
    }
   ],
   "source": [
    "gc.show_gender()"
   ]
  },
  {
   "cell_type": "code",
   "execution_count": null,
   "id": "4a6b6660",
   "metadata": {},
   "outputs": [],
   "source": []
  }
 ],
 "metadata": {
  "kernelspec": {
   "display_name": "Python 3 (ipykernel)",
   "language": "python",
   "name": "python3"
  },
  "language_info": {
   "codemirror_mode": {
    "name": "ipython",
    "version": 3
   },
   "file_extension": ".py",
   "mimetype": "text/x-python",
   "name": "python",
   "nbconvert_exporter": "python",
   "pygments_lexer": "ipython3",
   "version": "3.9.13"
  }
 },
 "nbformat": 4,
 "nbformat_minor": 5
}
